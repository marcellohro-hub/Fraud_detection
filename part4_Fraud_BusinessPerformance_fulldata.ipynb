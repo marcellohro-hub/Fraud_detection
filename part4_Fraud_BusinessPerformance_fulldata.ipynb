{
 "cells": [
  {
   "cell_type": "markdown",
   "metadata": {},
   "source": [
    "**The Business Challenge**\n",
    "\n",
    "\n",
    "The Blocker Fraud Company: \n",
    "* Financial transactions' fraud detection specialized company. \n",
    "* The Blocker Fraud service ensures fraudulent transactions block.\n",
    "\n",
    "Business Model: \n",
    "* service's performance monetization.\n",
    "\n",
    "Expansion Strategy in Brazil:\n",
    "* The company receives 25% of each transaction value truly detected as fraud.\n",
    "* The company gives back 5% of each transaction value detected as fraud, however the transaction is legitimate.\n",
    "* The company gives back 100% of the value for the customer in each transaction detected as legitimate, however the transaction is actually a fraud.\n",
    "\n",
    "Goal:\n",
    "\n",
    "* Create a model with high accuracy and precision with respect to transactions' fraud detection.\n",
    "\n",
    "The following questions must be answered:\n",
    "\n",
    "* What is the model's precision and accuracy?\n",
    "* What is the model's reliability with respect to transactions' classification as legitimate or fraudulent?\n",
    "* What is the company's forecasted revenue if the model classifies 100% of the transactions?\n",
    "* What is the company's forecasted loss in case of model's failure?What is the Blocker Fraud Company forecasted profit using the model?"
   ]
  },
  {
   "cell_type": "markdown",
   "metadata": {
    "heading_collapsed": true
   },
   "source": [
    "# IMPORTS"
   ]
  },
  {
   "cell_type": "code",
   "execution_count": 1,
   "metadata": {
    "ExecuteTime": {
     "end_time": "2020-11-08T13:58:30.660942Z",
     "start_time": "2020-11-08T13:58:26.114569Z"
    },
    "hidden": true
   },
   "outputs": [
    {
     "name": "stderr",
     "output_type": "stream",
     "text": [
      "C:\\Users\\marcellohro\\anaconda3\\lib\\site-packages\\tensorflow\\python\\framework\\dtypes.py:516: FutureWarning: Passing (type, 1) or '1type' as a synonym of type is deprecated; in a future version of numpy, it will be understood as (type, (1,)) / '(1,)type'.\n",
      "  _np_qint8 = np.dtype([(\"qint8\", np.int8, 1)])\n",
      "C:\\Users\\marcellohro\\anaconda3\\lib\\site-packages\\tensorflow\\python\\framework\\dtypes.py:517: FutureWarning: Passing (type, 1) or '1type' as a synonym of type is deprecated; in a future version of numpy, it will be understood as (type, (1,)) / '(1,)type'.\n",
      "  _np_quint8 = np.dtype([(\"quint8\", np.uint8, 1)])\n",
      "C:\\Users\\marcellohro\\anaconda3\\lib\\site-packages\\tensorflow\\python\\framework\\dtypes.py:518: FutureWarning: Passing (type, 1) or '1type' as a synonym of type is deprecated; in a future version of numpy, it will be understood as (type, (1,)) / '(1,)type'.\n",
      "  _np_qint16 = np.dtype([(\"qint16\", np.int16, 1)])\n",
      "C:\\Users\\marcellohro\\anaconda3\\lib\\site-packages\\tensorflow\\python\\framework\\dtypes.py:519: FutureWarning: Passing (type, 1) or '1type' as a synonym of type is deprecated; in a future version of numpy, it will be understood as (type, (1,)) / '(1,)type'.\n",
      "  _np_quint16 = np.dtype([(\"quint16\", np.uint16, 1)])\n",
      "C:\\Users\\marcellohro\\anaconda3\\lib\\site-packages\\tensorflow\\python\\framework\\dtypes.py:520: FutureWarning: Passing (type, 1) or '1type' as a synonym of type is deprecated; in a future version of numpy, it will be understood as (type, (1,)) / '(1,)type'.\n",
      "  _np_qint32 = np.dtype([(\"qint32\", np.int32, 1)])\n",
      "C:\\Users\\marcellohro\\anaconda3\\lib\\site-packages\\tensorflow\\python\\framework\\dtypes.py:525: FutureWarning: Passing (type, 1) or '1type' as a synonym of type is deprecated; in a future version of numpy, it will be understood as (type, (1,)) / '(1,)type'.\n",
      "  np_resource = np.dtype([(\"resource\", np.ubyte, 1)])\n",
      "C:\\Users\\marcellohro\\anaconda3\\lib\\site-packages\\tensorboard\\compat\\tensorflow_stub\\dtypes.py:541: FutureWarning: Passing (type, 1) or '1type' as a synonym of type is deprecated; in a future version of numpy, it will be understood as (type, (1,)) / '(1,)type'.\n",
      "  _np_qint8 = np.dtype([(\"qint8\", np.int8, 1)])\n",
      "C:\\Users\\marcellohro\\anaconda3\\lib\\site-packages\\tensorboard\\compat\\tensorflow_stub\\dtypes.py:542: FutureWarning: Passing (type, 1) or '1type' as a synonym of type is deprecated; in a future version of numpy, it will be understood as (type, (1,)) / '(1,)type'.\n",
      "  _np_quint8 = np.dtype([(\"quint8\", np.uint8, 1)])\n",
      "C:\\Users\\marcellohro\\anaconda3\\lib\\site-packages\\tensorboard\\compat\\tensorflow_stub\\dtypes.py:543: FutureWarning: Passing (type, 1) or '1type' as a synonym of type is deprecated; in a future version of numpy, it will be understood as (type, (1,)) / '(1,)type'.\n",
      "  _np_qint16 = np.dtype([(\"qint16\", np.int16, 1)])\n",
      "C:\\Users\\marcellohro\\anaconda3\\lib\\site-packages\\tensorboard\\compat\\tensorflow_stub\\dtypes.py:544: FutureWarning: Passing (type, 1) or '1type' as a synonym of type is deprecated; in a future version of numpy, it will be understood as (type, (1,)) / '(1,)type'.\n",
      "  _np_quint16 = np.dtype([(\"quint16\", np.uint16, 1)])\n",
      "C:\\Users\\marcellohro\\anaconda3\\lib\\site-packages\\tensorboard\\compat\\tensorflow_stub\\dtypes.py:545: FutureWarning: Passing (type, 1) or '1type' as a synonym of type is deprecated; in a future version of numpy, it will be understood as (type, (1,)) / '(1,)type'.\n",
      "  _np_qint32 = np.dtype([(\"qint32\", np.int32, 1)])\n",
      "C:\\Users\\marcellohro\\anaconda3\\lib\\site-packages\\tensorboard\\compat\\tensorflow_stub\\dtypes.py:550: FutureWarning: Passing (type, 1) or '1type' as a synonym of type is deprecated; in a future version of numpy, it will be understood as (type, (1,)) / '(1,)type'.\n",
      "  np_resource = np.dtype([(\"resource\", np.ubyte, 1)])\n"
     ]
    }
   ],
   "source": [
    "import pandas as pd\n",
    "import random\n",
    "import pickle\n",
    "import math\n",
    "import numpy as np\n",
    "import seaborn as sns\n",
    "import matplotlib.pyplot as plt\n",
    "#for cramer v\n",
    "from scipy import stats as ss\n",
    "#for univariate analysis\n",
    "from pandas_profiling import ProfileReport\n",
    "#preprocessing\n",
    "from sklearn.preprocessing import FunctionTransformer, PowerTransformer,\\\n",
    "MaxAbsScaler, StandardScaler, RobustScaler, MinMaxScaler\n",
    "# for under/over sampling\n",
    "from imblearn import under_sampling as us\n",
    "from imblearn import over_sampling as oversamp\n",
    "from imblearn import combine as c\n",
    "# for feature selection\n",
    "from boruta import BorutaPy\n",
    "#for splitting data\n",
    "from sklearn import model_selection as ms\n",
    "#for metrics\n",
    "from sklearn import metrics as m\n",
    "from scikitplot import metrics as mt\n",
    "#for ML\n",
    "import xgboost as xgb\n",
    "from sklearn.svm import SVC\n",
    "from sklearn.ensemble import RandomForestClassifier\n",
    "from sklearn.tree import DecisionTreeClassifier\n",
    "from sklearn.linear_model import LogisticRegression\n",
    "from sklearn.neighbors import KNeighborsClassifier\n",
    "from tensorflow.keras import models as ml\n",
    "from tensorflow.keras import layers as l\n",
    "from tensorflow.keras.callbacks import EarlyStopping\n",
    "#for balancing data\n",
    "from imblearn.under_sampling import OneSidedSelection\n",
    "from imblearn.under_sampling import NearMiss"
   ]
  },
  {
   "cell_type": "markdown",
   "metadata": {
    "hidden": true
   },
   "source": [
    "## Data"
   ]
  },
  {
   "cell_type": "code",
   "execution_count": 2,
   "metadata": {
    "ExecuteTime": {
     "end_time": "2020-11-08T13:58:30.666958Z",
     "start_time": "2020-11-08T13:58:30.662942Z"
    },
    "hidden": true
   },
   "outputs": [],
   "source": [
    "SEED=42"
   ]
  },
  {
   "cell_type": "code",
   "execution_count": 3,
   "metadata": {
    "ExecuteTime": {
     "end_time": "2020-11-08T13:58:41.371311Z",
     "start_time": "2020-11-08T13:58:30.668944Z"
    },
    "hidden": true
   },
   "outputs": [],
   "source": [
    "data = pd.read_csv('../PS_20174392719_1491204439457_log.csv')"
   ]
  },
  {
   "cell_type": "code",
   "execution_count": 4,
   "metadata": {
    "ExecuteTime": {
     "end_time": "2020-11-08T13:58:42.129445Z",
     "start_time": "2020-11-08T13:58:41.374314Z"
    },
    "hidden": true
   },
   "outputs": [],
   "source": [
    "# para usar tudo\n",
    "df1=data.copy()\n",
    "# df1=data[data['type'].apply(lambda x: x in ['CASH_OUT', 'TRANSFER'])] #deletar transferências em que não há fraude\n",
    "df1=df1.reset_index(drop=True)"
   ]
  },
  {
   "cell_type": "code",
   "execution_count": 5,
   "metadata": {
    "ExecuteTime": {
     "end_time": "2020-11-08T13:58:42.352845Z",
     "start_time": "2020-11-08T13:58:42.130446Z"
    },
    "hidden": true
   },
   "outputs": [
    {
     "data": {
      "text/html": [
       "<div>\n",
       "<style scoped>\n",
       "    .dataframe tbody tr th:only-of-type {\n",
       "        vertical-align: middle;\n",
       "    }\n",
       "\n",
       "    .dataframe tbody tr th {\n",
       "        vertical-align: top;\n",
       "    }\n",
       "\n",
       "    .dataframe thead th {\n",
       "        text-align: right;\n",
       "    }\n",
       "</style>\n",
       "<table border=\"1\" class=\"dataframe\">\n",
       "  <thead>\n",
       "    <tr style=\"text-align: right;\">\n",
       "      <th></th>\n",
       "      <th>step</th>\n",
       "    </tr>\n",
       "    <tr>\n",
       "      <th>isFraud</th>\n",
       "      <th></th>\n",
       "    </tr>\n",
       "  </thead>\n",
       "  <tbody>\n",
       "    <tr>\n",
       "      <th>0</th>\n",
       "      <td>6354407</td>\n",
       "    </tr>\n",
       "    <tr>\n",
       "      <th>1</th>\n",
       "      <td>8213</td>\n",
       "    </tr>\n",
       "  </tbody>\n",
       "</table>\n",
       "</div>"
      ],
      "text/plain": [
       "            step\n",
       "isFraud         \n",
       "0        6354407\n",
       "1           8213"
      ]
     },
     "execution_count": 5,
     "metadata": {},
     "output_type": "execute_result"
    }
   ],
   "source": [
    "df1[['step','isFraud']].groupby('isFraud').count()"
   ]
  },
  {
   "cell_type": "code",
   "execution_count": 6,
   "metadata": {
    "ExecuteTime": {
     "end_time": "2020-11-08T13:58:42.357850Z",
     "start_time": "2020-11-08T13:58:42.354851Z"
    },
    "hidden": true
   },
   "outputs": [],
   "source": [
    "# # para usar apenas parte dos dados\n",
    "# df1=data[data['type'].apply(lambda x: x in ['CASH_OUT', 'TRANSFER'])] #selecionar apenas cash out e transfer\n",
    "# df1=df1.groupby('isFraud').apply(lambda x: x.sample(frac=0.1))\n",
    "# df1=df1.reset_index(drop=True)"
   ]
  },
  {
   "cell_type": "code",
   "execution_count": 7,
   "metadata": {
    "ExecuteTime": {
     "end_time": "2020-11-08T13:58:42.373865Z",
     "start_time": "2020-11-08T13:58:42.359853Z"
    },
    "hidden": true
   },
   "outputs": [],
   "source": [
    "def jupyter_settings():\n",
    "    %matplotlib inline\n",
    "    %pylab inline\n",
    "    \n",
    "#     plt.style.use( 'bmh' )\n",
    "#     plt.rcParams['figure.figsize'] = [25, 12]\n",
    "#     plt.rcParams['font.size'] = 24\n",
    "    \n",
    "#     display( HTML( '<style>.container { width:100% !important; }</style>') )\n",
    "#     pd.options.display.max_columns = None\n",
    "#     pd.options.display.max_rows = None\n",
    "#     pd.set_option( 'display.expand_frame_repr', True )\n",
    "    \n",
    "    sns.set()"
   ]
  },
  {
   "cell_type": "code",
   "execution_count": 8,
   "metadata": {
    "ExecuteTime": {
     "end_time": "2020-11-08T13:58:42.387880Z",
     "start_time": "2020-11-08T13:58:42.375867Z"
    },
    "hidden": true
   },
   "outputs": [
    {
     "name": "stdout",
     "output_type": "stream",
     "text": [
      "Populating the interactive namespace from numpy and matplotlib\n"
     ]
    },
    {
     "name": "stderr",
     "output_type": "stream",
     "text": [
      "C:\\Users\\marcellohro\\anaconda3\\lib\\site-packages\\IPython\\core\\magics\\pylab.py:160: UserWarning: pylab import has clobbered these variables: ['random']\n",
      "`%matplotlib` prevents importing * from pylab and numpy\n",
      "  \"\\n`%matplotlib` prevents importing * from pylab and numpy\"\n"
     ]
    }
   ],
   "source": [
    "jupyter_settings()"
   ]
  },
  {
   "cell_type": "markdown",
   "metadata": {
    "heading_collapsed": true,
    "hidden": true
   },
   "source": [
    "## Helper functions"
   ]
  },
  {
   "cell_type": "code",
   "execution_count": 9,
   "metadata": {
    "ExecuteTime": {
     "end_time": "2020-11-08T13:58:42.403897Z",
     "start_time": "2020-11-08T13:58:42.389882Z"
    },
    "hidden": true
   },
   "outputs": [],
   "source": [
    "def cross_validation( target, data2crossv, kfold, model_name, model, undersample=None):\n",
    "    acc_list = []\n",
    "    balanced_acc_list = []\n",
    "    f1_list = []\n",
    "    kappa_list = []\n",
    "    \n",
    "    kfold = ms.StratifiedKFold( n_splits=kfold, shuffle=True, random_state=SEED )\n",
    "#     tscv = TimeSeriesSplit(n_splits=kfold)\n",
    "    \n",
    "    #data2crossv.set_index(['date'])\n",
    "    X=data2crossv.drop(target,axis=1)\n",
    "    Y=data2crossv[target]\n",
    "    \n",
    "    for train_index,test_index in kfold.split(X,Y):\n",
    "        \n",
    "        #splitting\n",
    "        xtraining, xvalidation, ytraining, yvalidation = X.values[train_index], X.values[test_index], \\\n",
    "                                       Y.values[train_index], Y.values[test_index]\n",
    "        \n",
    "        if undersample:\n",
    "            xtraining, ytraining = undersample.fit_sample(xtraining, ytraining)\n",
    "                \n",
    "        # model and prediction\n",
    "        if model_name=='Neural Net':\n",
    "            model.add( l.Dense( units=64, input_dim=xtraining.shape[1], activation='relu' ) )\n",
    "            model.add( l.Dense( units=16, activation='relu') )\n",
    "            model.add( l.Dense( units=1, activation='sigmoid') )\n",
    "            model.compile( loss='binary_crossentropy', optimizer='adam', metrics=['accuracy'] )\n",
    "            early_stop = EarlyStopping(monitor='val_loss', mode='min', verbose=1, patience=3)\n",
    "            model.fit( xtraining, ytraining, epochs=20, validation_data=(x_test, y_test), verbose=1, callbacks=[early_stop])\n",
    "            yhat = model.predict_classes(xvalidation)\n",
    "        else:\n",
    "            m = model.fit( xtraining, ytraining.ravel() )\n",
    "            yhat = m.predict( xvalidation )\n",
    "        \n",
    "        # performance\n",
    "        m_result = ml_error( model_name, yvalidation, yhat)\n",
    "\n",
    "        # store performance of each kfold iteration\n",
    "        acc_list.append(  m_result['Accuracy'] )\n",
    "        balanced_acc_list.append( m_result['Balanced accuracy'] )\n",
    "        f1_list.append( m_result['F1 score'] )\n",
    "        kappa_list.append( m_result['Kappa Metrics'] )\n",
    "        \n",
    "    return pd.DataFrame( {'Model Name': model_name,\n",
    "                          'ACC CV': np.round( np.mean( acc_list ), 4 ).astype( str ) + ' +/- ' + np.round( np.std( acc_list ), 4 ).astype( str ),\n",
    "                          'Balanced ACC CV': np.round( np.mean( balanced_acc_list ), 4).astype( str ) + ' +/- ' + np.round( np.std( balanced_acc_list ), 4 ).astype( str ),\n",
    "                          'F1 CV': np.round( np.mean( f1_list ), 4 ).astype( str ) + ' +/- ' + np.round( np.std( f1_list ), 4 ).astype( str ),\n",
    "                          'Kappa CV': np.round( np.mean( kappa_list ), 4 ).astype( str ) + ' +/- ' + np.round( np.std( kappa_list ), 4 ).astype( str )\n",
    "                         }, index=[0] )"
   ]
  },
  {
   "cell_type": "code",
   "execution_count": 10,
   "metadata": {
    "ExecuteTime": {
     "end_time": "2020-11-08T13:58:42.412904Z",
     "start_time": "2020-11-08T13:58:42.404895Z"
    },
    "hidden": true
   },
   "outputs": [],
   "source": [
    "def ml_error( model_name, y, yhat ):\n",
    "    # Accuracy\n",
    "    acc = m.accuracy_score( y, yhat )\n",
    "    # Balanced Accuracy\n",
    "    balanced_acc = m.balanced_accuracy_score( y, yhat )\n",
    "    # F1 score\n",
    "    f1 = m.f1_score( y, yhat )\n",
    "    # Kappa Metrics\n",
    "    kappa = m.cohen_kappa_score( y, yhat )\n",
    "    \n",
    "    return pd.DataFrame( { 'Model Name': model_name, \n",
    "                           'Accuracy': acc,\n",
    "                           'Balanced accuracy': balanced_acc,\n",
    "                           'F1 score': f1, \n",
    "                           'Kappa Metrics': kappa\n",
    "                         }, index=[0] )"
   ]
  },
  {
   "cell_type": "code",
   "execution_count": 11,
   "metadata": {
    "ExecuteTime": {
     "end_time": "2020-11-08T13:58:42.421916Z",
     "start_time": "2020-11-08T13:58:42.413905Z"
    },
    "hidden": true
   },
   "outputs": [],
   "source": [
    "def cramer_v( x, y ):\n",
    "    cm = pd.crosstab( x, y ).values\n",
    "    n = cm.sum()\n",
    "    r, k = cm.shape\n",
    "    \n",
    "    chi2 = ss.chi2_contingency( cm )[0]\n",
    "    chi2corr = max( 0, chi2 - (k-1)*(r-1)/(n-1) )\n",
    "    \n",
    "    kcorr = k - (k-1)**2/(n-1)\n",
    "    rcorr = r - (r-1)**2/(n-1)\n",
    "    \n",
    "    return np.sqrt( (chi2corr/n) / ( min( kcorr-1, rcorr-1 ) ) )"
   ]
  },
  {
   "cell_type": "code",
   "execution_count": 12,
   "metadata": {
    "ExecuteTime": {
     "end_time": "2020-11-08T13:58:42.429920Z",
     "start_time": "2020-11-08T13:58:42.423915Z"
    },
    "hidden": true
   },
   "outputs": [],
   "source": [
    "def mod_round(x):\n",
    "    x=abs(x)\n",
    "    x=round(x)\n",
    "    return x"
   ]
  },
  {
   "cell_type": "code",
   "execution_count": 13,
   "metadata": {
    "ExecuteTime": {
     "end_time": "2020-11-08T13:58:42.438929Z",
     "start_time": "2020-11-08T13:58:42.430920Z"
    },
    "hidden": true
   },
   "outputs": [],
   "source": [
    "# make list of variables types\n",
    "def variable_types(data):\n",
    "    # numerical: discrete and continuous\n",
    "    discrete = [var for var in data.columns if data[var].dtype != 'O' and data[var].nunique() < 35]\n",
    "    continuous = [var for var in data.columns if data[var].dtype != 'O' and var != 'survived' and var not in discrete]\n",
    "\n",
    "    # categorical\n",
    "    categorical = [var for var in data.columns if data[var].dtype == 'O']\n",
    "\n",
    "    print('There are {} discrete variables'.format(len(discrete)))\n",
    "    print('There are {} continuous variables'.format(len(continuous)))\n",
    "    print('There are {} categorical variables'.format(len(categorical)))\n",
    "    \n",
    "    return discrete,continuous,categorical"
   ]
  },
  {
   "cell_type": "markdown",
   "metadata": {
    "heading_collapsed": true
   },
   "source": [
    "# FEATURE ENGINEERING"
   ]
  },
  {
   "cell_type": "code",
   "execution_count": 14,
   "metadata": {
    "ExecuteTime": {
     "end_time": "2020-11-08T13:58:42.756233Z",
     "start_time": "2020-11-08T13:58:42.439930Z"
    },
    "hidden": true
   },
   "outputs": [],
   "source": [
    "df2=df1.copy()"
   ]
  },
  {
   "cell_type": "markdown",
   "metadata": {
    "hidden": true
   },
   "source": [
    "## Cash Flow feature\n"
   ]
  },
  {
   "cell_type": "code",
   "execution_count": 15,
   "metadata": {
    "ExecuteTime": {
     "end_time": "2020-11-08T13:58:42.865337Z",
     "start_time": "2020-11-08T13:58:42.759241Z"
    },
    "hidden": true
   },
   "outputs": [],
   "source": [
    "# cash flow\n",
    "df2['FlowOrig']=df2['newbalanceOrig']-df2['oldbalanceOrg']\n",
    "df2['FlowDest']=df2['newbalanceDest']-df2['oldbalanceDest']"
   ]
  },
  {
   "cell_type": "markdown",
   "metadata": {
    "hidden": true
   },
   "source": [
    "## Amount is different than cash flow flag feature"
   ]
  },
  {
   "cell_type": "code",
   "execution_count": 16,
   "metadata": {
    "ExecuteTime": {
     "end_time": "2020-11-08T13:58:52.155749Z",
     "start_time": "2020-11-08T13:58:42.866339Z"
    },
    "hidden": true,
    "scrolled": false
   },
   "outputs": [],
   "source": [
    "# flag if amount is different than cash flow\n",
    "df2['amount_anomaly_orig']=(df2['FlowOrig']).apply(mod_round)!=df2['amount'].apply(mod_round)\n",
    "# df2['amount_anomaly_dest']=(df2['FlowDest']).apply(mod_round)!=df2['amount'].apply(mod_round)"
   ]
  },
  {
   "cell_type": "markdown",
   "metadata": {
    "hidden": true
   },
   "source": [
    "## Inflow vs Outflow"
   ]
  },
  {
   "cell_type": "code",
   "execution_count": 17,
   "metadata": {
    "ExecuteTime": {
     "end_time": "2020-11-08T13:58:52.223814Z",
     "start_time": "2020-11-08T13:58:52.156750Z"
    },
    "hidden": true
   },
   "outputs": [],
   "source": [
    "# df2['FluxOrig']=df2['FlowOrig'].apply(sign)\n",
    "df2['FluxDest']=df2['FlowDest'].apply(sign)"
   ]
  },
  {
   "cell_type": "markdown",
   "metadata": {
    "hidden": true
   },
   "source": [
    "## Anomaly flow"
   ]
  },
  {
   "cell_type": "code",
   "execution_count": 18,
   "metadata": {
    "ExecuteTime": {
     "end_time": "2020-11-08T13:58:52.432014Z",
     "start_time": "2020-11-08T13:58:52.224816Z"
    },
    "hidden": true
   },
   "outputs": [],
   "source": [
    "df2['disc_orig_amount']=abs(df2['newbalanceOrig']-df2['oldbalanceOrg'])-df2['amount']\n",
    "df2['disc_dest_amount']=abs(df2['newbalanceDest']-df2['oldbalanceDest'])-df2['amount']"
   ]
  },
  {
   "cell_type": "code",
   "execution_count": 19,
   "metadata": {
    "ExecuteTime": {
     "end_time": "2020-11-08T13:58:53.351897Z",
     "start_time": "2020-11-08T13:58:52.433015Z"
    },
    "hidden": true
   },
   "outputs": [],
   "source": [
    "df2=df2[['amount', 'oldbalanceOrg', 'newbalanceOrig', 'oldbalanceDest', 'newbalanceDest',\\\n",
    "          'disc_orig_amount', 'disc_dest_amount', 'type', 'amount_anomaly_orig', 'FluxDest','isFraud']]"
   ]
  },
  {
   "cell_type": "code",
   "execution_count": 20,
   "metadata": {
    "ExecuteTime": {
     "end_time": "2020-11-08T13:58:53.356902Z",
     "start_time": "2020-11-08T13:58:53.352898Z"
    },
    "hidden": true
   },
   "outputs": [
    {
     "data": {
      "text/plain": [
       "Index(['amount', 'oldbalanceOrg', 'newbalanceOrig', 'oldbalanceDest',\n",
       "       'newbalanceDest', 'disc_orig_amount', 'disc_dest_amount', 'type',\n",
       "       'amount_anomaly_orig', 'FluxDest', 'isFraud'],\n",
       "      dtype='object')"
      ]
     },
     "execution_count": 20,
     "metadata": {},
     "output_type": "execute_result"
    }
   ],
   "source": [
    "df2.columns"
   ]
  },
  {
   "cell_type": "markdown",
   "metadata": {
    "heading_collapsed": true
   },
   "source": [
    "# DATA BALANCE ANALYSIS"
   ]
  },
  {
   "cell_type": "markdown",
   "metadata": {
    "hidden": true
   },
   "source": [
    "**Analysis**\n",
    "* near-miss 1,2 and 3 removes outliers from class no-fraud and can balance 1:1\n",
    "* OneSidedSelection is more theoritically consistent but can balance only around 10:1\n",
    "* NeighbourhoodCleaningRule and tomeklinks is bad at balancing, but good at redundant data\n",
    "* Maybe combining algorithims that can't balance 1:1 with random undersamper?\n",
    "* Better test every undersampler with gridsearch pipeline"
   ]
  },
  {
   "cell_type": "markdown",
   "metadata": {
    "heading_collapsed": true
   },
   "source": [
    "# DATA PREPARATION"
   ]
  },
  {
   "cell_type": "code",
   "execution_count": 21,
   "metadata": {
    "ExecuteTime": {
     "end_time": "2020-11-08T13:58:53.571115Z",
     "start_time": "2020-11-08T13:58:53.357903Z"
    },
    "hidden": true
   },
   "outputs": [],
   "source": [
    "df4=df2.copy()"
   ]
  },
  {
   "cell_type": "markdown",
   "metadata": {
    "hidden": true
   },
   "source": [
    "## Categorical variables"
   ]
  },
  {
   "cell_type": "code",
   "execution_count": 22,
   "metadata": {
    "ExecuteTime": {
     "end_time": "2020-11-08T13:58:57.828979Z",
     "start_time": "2020-11-08T13:58:53.573111Z"
    },
    "hidden": true,
    "scrolled": true
   },
   "outputs": [
    {
     "name": "stdout",
     "output_type": "stream",
     "text": [
      "There are 3 discrete variables\n",
      "There are 7 continuous variables\n",
      "There are 1 categorical variables\n"
     ]
    }
   ],
   "source": [
    "discrete,continuous,categorical=variable_types(df4)"
   ]
  },
  {
   "cell_type": "code",
   "execution_count": 23,
   "metadata": {
    "ExecuteTime": {
     "end_time": "2020-11-08T13:58:58.343655Z",
     "start_time": "2020-11-08T13:58:57.836176Z"
    },
    "hidden": true
   },
   "outputs": [],
   "source": [
    "# pd.getdummies didnt work with lots of data\n",
    "type_map = {'TRANSFER':0,'CASH_OUT':1}\n",
    "df4['type'] = df4['type'].map(type_map)"
   ]
  },
  {
   "cell_type": "markdown",
   "metadata": {
    "heading_collapsed": true,
    "hidden": true
   },
   "source": [
    "## Outlier capping and log-scale preparation"
   ]
  },
  {
   "cell_type": "code",
   "execution_count": 24,
   "metadata": {
    "ExecuteTime": {
     "end_time": "2020-11-08T13:58:58.551862Z",
     "start_time": "2020-11-08T13:58:58.345659Z"
    },
    "hidden": true
   },
   "outputs": [],
   "source": [
    "df4ol=df4.copy()"
   ]
  },
  {
   "cell_type": "code",
   "execution_count": 25,
   "metadata": {
    "ExecuteTime": {
     "end_time": "2020-11-08T13:58:58.611912Z",
     "start_time": "2020-11-08T13:58:58.553858Z"
    },
    "hidden": true
   },
   "outputs": [],
   "source": [
    "#multiplicar disc_orig_amount por -1 para facilitar transformação em logscale\n",
    "df4ol['disc_orig_amount']=-df4ol['disc_orig_amount']"
   ]
  },
  {
   "cell_type": "code",
   "execution_count": 26,
   "metadata": {
    "ExecuteTime": {
     "end_time": "2020-11-08T13:58:59.246525Z",
     "start_time": "2020-11-08T13:58:58.612913Z"
    },
    "hidden": true
   },
   "outputs": [],
   "source": [
    "#capping positive values\n",
    "amount_ol=1.5e7\n",
    "oldbalancedest_ol=3e7\n",
    "newbalancedest_ol=3e7\n",
    "df4ol.loc[df4ol['amount']>amount_ol,['amount']]=amount_ol\n",
    "df4ol.loc[df4ol['oldbalanceDest']>oldbalancedest_ol,['oldbalanceDest']]=oldbalancedest_ol\n",
    "df4ol.loc[df4ol['newbalanceDest']>newbalancedest_ol,['newbalanceDest']]=newbalancedest_ol"
   ]
  },
  {
   "cell_type": "code",
   "execution_count": 27,
   "metadata": {
    "ExecuteTime": {
     "end_time": "2020-11-08T13:58:59.421693Z",
     "start_time": "2020-11-08T13:58:59.249527Z"
    },
    "hidden": true
   },
   "outputs": [],
   "source": [
    "#capping negative values\n",
    "disc_dest_amount_ol=-1e7\n",
    "disc_orig_amount_ol=0\n",
    "df4ol.loc[df4ol['disc_dest_amount']<disc_dest_amount_ol,['disc_dest_amount']]=disc_dest_amount_ol\n",
    "df4ol.loc[df4ol['disc_orig_amount']<disc_orig_amount_ol,['disc_orig_amount']]=disc_orig_amount_ol"
   ]
  },
  {
   "cell_type": "markdown",
   "metadata": {
    "heading_collapsed": true,
    "hidden": true
   },
   "source": [
    "## Continuous variables"
   ]
  },
  {
   "cell_type": "markdown",
   "metadata": {
    "heading_collapsed": true,
    "hidden": true
   },
   "source": [
    "### log1p-scaling"
   ]
  },
  {
   "cell_type": "code",
   "execution_count": 28,
   "metadata": {
    "ExecuteTime": {
     "end_time": "2020-11-08T13:58:59.647914Z",
     "start_time": "2020-11-08T13:58:59.425695Z"
    },
    "hidden": true
   },
   "outputs": [],
   "source": [
    "df5=df4ol.copy()"
   ]
  },
  {
   "cell_type": "code",
   "execution_count": 29,
   "metadata": {
    "ExecuteTime": {
     "end_time": "2020-11-08T13:59:04.013769Z",
     "start_time": "2020-11-08T13:58:59.651913Z"
    },
    "hidden": true
   },
   "outputs": [
    {
     "name": "stdout",
     "output_type": "stream",
     "text": [
      "There are 4 discrete variables\n",
      "There are 7 continuous variables\n",
      "There are 0 categorical variables\n"
     ]
    }
   ],
   "source": [
    "discrete,continuous,categorical=variable_types(df5)"
   ]
  },
  {
   "cell_type": "markdown",
   "metadata": {
    "hidden": true
   },
   "source": [
    "#### data preparation for log scaling"
   ]
  },
  {
   "cell_type": "code",
   "execution_count": 30,
   "metadata": {
    "ExecuteTime": {
     "end_time": "2020-11-08T13:59:04.078825Z",
     "start_time": "2020-11-08T13:59:04.014778Z"
    },
    "hidden": true
   },
   "outputs": [],
   "source": [
    "#add constant to bring negative values to 0\n",
    "df5['disc_dest_amount']+=1e7"
   ]
  },
  {
   "cell_type": "markdown",
   "metadata": {
    "hidden": true
   },
   "source": [
    "#### transformation"
   ]
  },
  {
   "cell_type": "code",
   "execution_count": 31,
   "metadata": {
    "ExecuteTime": {
     "end_time": "2020-11-08T13:59:05.910940Z",
     "start_time": "2020-11-08T13:59:04.079826Z"
    },
    "hidden": true,
    "scrolled": true
   },
   "outputs": [],
   "source": [
    "aux=df5.copy()\n",
    "cols=continuous\n",
    "transformer = FunctionTransformer(np.log1p, validate=True)\n",
    "transformer.fit(aux[cols].fillna(1))\n",
    "data_t = transformer.transform(aux[cols].fillna(1))\n",
    "data_t = pd.DataFrame(data_t, columns = cols)\n",
    "# for var in cols:\n",
    "#     diagnostic_plots(data_t, var)"
   ]
  },
  {
   "cell_type": "code",
   "execution_count": 32,
   "metadata": {
    "ExecuteTime": {
     "end_time": "2020-11-08T13:59:06.064551Z",
     "start_time": "2020-11-08T13:59:05.912935Z"
    },
    "hidden": true
   },
   "outputs": [],
   "source": [
    "# cont_data=data_t.copy()\n",
    "# aux=data_t.copy()\n",
    "# aux=pd.concat([aux,df5[['day','isFraud']]],axis=1)\n",
    "cont_data=data_t.copy()\n",
    "# aux=data_t.copy()\n",
    "# aux=pd.concat([aux,df5[['isFraud']]],axis=1)"
   ]
  },
  {
   "cell_type": "code",
   "execution_count": 33,
   "metadata": {
    "ExecuteTime": {
     "end_time": "2020-11-08T13:59:09.059739Z",
     "start_time": "2020-11-08T13:59:06.066558Z"
    },
    "hidden": true
   },
   "outputs": [
    {
     "data": {
      "text/html": [
       "<div>\n",
       "<style scoped>\n",
       "    .dataframe tbody tr th:only-of-type {\n",
       "        vertical-align: middle;\n",
       "    }\n",
       "\n",
       "    .dataframe tbody tr th {\n",
       "        vertical-align: top;\n",
       "    }\n",
       "\n",
       "    .dataframe thead th {\n",
       "        text-align: right;\n",
       "    }\n",
       "</style>\n",
       "<table border=\"1\" class=\"dataframe\">\n",
       "  <thead>\n",
       "    <tr style=\"text-align: right;\">\n",
       "      <th></th>\n",
       "      <th>amount</th>\n",
       "      <th>oldbalanceOrg</th>\n",
       "      <th>newbalanceOrig</th>\n",
       "      <th>oldbalanceDest</th>\n",
       "      <th>newbalanceDest</th>\n",
       "      <th>disc_orig_amount</th>\n",
       "      <th>disc_dest_amount</th>\n",
       "    </tr>\n",
       "  </thead>\n",
       "  <tbody>\n",
       "    <tr>\n",
       "      <th>count</th>\n",
       "      <td>6.362620e+06</td>\n",
       "      <td>6.362620e+06</td>\n",
       "      <td>6.362620e+06</td>\n",
       "      <td>6.362620e+06</td>\n",
       "      <td>6.362620e+06</td>\n",
       "      <td>6.362620e+06</td>\n",
       "      <td>6.362620e+06</td>\n",
       "    </tr>\n",
       "    <tr>\n",
       "      <th>mean</th>\n",
       "      <td>1.084077e+01</td>\n",
       "      <td>7.414574e+00</td>\n",
       "      <td>5.366092e+00</td>\n",
       "      <td>7.721754e+00</td>\n",
       "      <td>8.329755e+00</td>\n",
       "      <td>6.217243e+00</td>\n",
       "      <td>1.611795e+01</td>\n",
       "    </tr>\n",
       "    <tr>\n",
       "      <th>std</th>\n",
       "      <td>1.814178e+00</td>\n",
       "      <td>5.669756e+00</td>\n",
       "      <td>6.330024e+00</td>\n",
       "      <td>6.746654e+00</td>\n",
       "      <td>6.673907e+00</td>\n",
       "      <td>5.617257e+00</td>\n",
       "      <td>8.108463e-02</td>\n",
       "    </tr>\n",
       "    <tr>\n",
       "      <th>min</th>\n",
       "      <td>0.000000e+00</td>\n",
       "      <td>0.000000e+00</td>\n",
       "      <td>0.000000e+00</td>\n",
       "      <td>0.000000e+00</td>\n",
       "      <td>0.000000e+00</td>\n",
       "      <td>0.000000e+00</td>\n",
       "      <td>0.000000e+00</td>\n",
       "    </tr>\n",
       "    <tr>\n",
       "      <th>25%</th>\n",
       "      <td>9.502306e+00</td>\n",
       "      <td>0.000000e+00</td>\n",
       "      <td>0.000000e+00</td>\n",
       "      <td>0.000000e+00</td>\n",
       "      <td>0.000000e+00</td>\n",
       "      <td>0.000000e+00</td>\n",
       "      <td>1.611730e+01</td>\n",
       "    </tr>\n",
       "    <tr>\n",
       "      <th>50%</th>\n",
       "      <td>1.122355e+01</td>\n",
       "      <td>9.561631e+00</td>\n",
       "      <td>0.000000e+00</td>\n",
       "      <td>1.179590e+01</td>\n",
       "      <td>1.227682e+01</td>\n",
       "      <td>8.665439e+00</td>\n",
       "      <td>1.611810e+01</td>\n",
       "    </tr>\n",
       "    <tr>\n",
       "      <th>75%</th>\n",
       "      <td>1.224876e+01</td>\n",
       "      <td>1.158353e+01</td>\n",
       "      <td>1.187937e+01</td>\n",
       "      <td>1.375686e+01</td>\n",
       "      <td>1.392159e+01</td>\n",
       "      <td>1.164837e+01</td>\n",
       "      <td>1.611810e+01</td>\n",
       "    </tr>\n",
       "    <tr>\n",
       "      <th>max</th>\n",
       "      <td>1.652356e+01</td>\n",
       "      <td>1.790292e+01</td>\n",
       "      <td>1.771920e+01</td>\n",
       "      <td>1.721671e+01</td>\n",
       "      <td>1.721671e+01</td>\n",
       "      <td>1.834213e+01</td>\n",
       "      <td>1.826853e+01</td>\n",
       "    </tr>\n",
       "  </tbody>\n",
       "</table>\n",
       "</div>"
      ],
      "text/plain": [
       "             amount  oldbalanceOrg  newbalanceOrig  oldbalanceDest  \\\n",
       "count  6.362620e+06   6.362620e+06    6.362620e+06    6.362620e+06   \n",
       "mean   1.084077e+01   7.414574e+00    5.366092e+00    7.721754e+00   \n",
       "std    1.814178e+00   5.669756e+00    6.330024e+00    6.746654e+00   \n",
       "min    0.000000e+00   0.000000e+00    0.000000e+00    0.000000e+00   \n",
       "25%    9.502306e+00   0.000000e+00    0.000000e+00    0.000000e+00   \n",
       "50%    1.122355e+01   9.561631e+00    0.000000e+00    1.179590e+01   \n",
       "75%    1.224876e+01   1.158353e+01    1.187937e+01    1.375686e+01   \n",
       "max    1.652356e+01   1.790292e+01    1.771920e+01    1.721671e+01   \n",
       "\n",
       "       newbalanceDest  disc_orig_amount  disc_dest_amount  \n",
       "count    6.362620e+06      6.362620e+06      6.362620e+06  \n",
       "mean     8.329755e+00      6.217243e+00      1.611795e+01  \n",
       "std      6.673907e+00      5.617257e+00      8.108463e-02  \n",
       "min      0.000000e+00      0.000000e+00      0.000000e+00  \n",
       "25%      0.000000e+00      0.000000e+00      1.611730e+01  \n",
       "50%      1.227682e+01      8.665439e+00      1.611810e+01  \n",
       "75%      1.392159e+01      1.164837e+01      1.611810e+01  \n",
       "max      1.721671e+01      1.834213e+01      1.826853e+01  "
      ]
     },
     "execution_count": 33,
     "metadata": {},
     "output_type": "execute_result"
    }
   ],
   "source": [
    "cont_data.describe()"
   ]
  },
  {
   "cell_type": "markdown",
   "metadata": {
    "heading_collapsed": true,
    "hidden": true
   },
   "source": [
    "## Discrete variables"
   ]
  },
  {
   "cell_type": "code",
   "execution_count": 34,
   "metadata": {
    "ExecuteTime": {
     "end_time": "2020-11-08T13:59:09.231904Z",
     "start_time": "2020-11-08T13:59:09.060740Z"
    },
    "hidden": true
   },
   "outputs": [],
   "source": [
    "# disc_data=df5[discrete].drop(['isFraud','flag_outlier'],axis=1)\n",
    "disc_data=df5[discrete].drop(['isFraud'],axis=1)"
   ]
  },
  {
   "cell_type": "code",
   "execution_count": 35,
   "metadata": {
    "ExecuteTime": {
     "end_time": "2020-11-08T13:59:09.533202Z",
     "start_time": "2020-11-08T13:59:09.232905Z"
    },
    "hidden": true
   },
   "outputs": [
    {
     "data": {
      "text/html": [
       "<div>\n",
       "<style scoped>\n",
       "    .dataframe tbody tr th:only-of-type {\n",
       "        vertical-align: middle;\n",
       "    }\n",
       "\n",
       "    .dataframe tbody tr th {\n",
       "        vertical-align: top;\n",
       "    }\n",
       "\n",
       "    .dataframe thead th {\n",
       "        text-align: right;\n",
       "    }\n",
       "</style>\n",
       "<table border=\"1\" class=\"dataframe\">\n",
       "  <thead>\n",
       "    <tr style=\"text-align: right;\">\n",
       "      <th></th>\n",
       "      <th>type</th>\n",
       "      <th>amount_anomaly_orig</th>\n",
       "      <th>FluxDest</th>\n",
       "    </tr>\n",
       "  </thead>\n",
       "  <tbody>\n",
       "    <tr>\n",
       "      <th>2871783</th>\n",
       "      <td>1.0</td>\n",
       "      <td>True</td>\n",
       "      <td>1.0</td>\n",
       "    </tr>\n",
       "    <tr>\n",
       "      <th>3768825</th>\n",
       "      <td>NaN</td>\n",
       "      <td>False</td>\n",
       "      <td>0.0</td>\n",
       "    </tr>\n",
       "    <tr>\n",
       "      <th>5423275</th>\n",
       "      <td>1.0</td>\n",
       "      <td>True</td>\n",
       "      <td>1.0</td>\n",
       "    </tr>\n",
       "    <tr>\n",
       "      <th>6228699</th>\n",
       "      <td>NaN</td>\n",
       "      <td>True</td>\n",
       "      <td>0.0</td>\n",
       "    </tr>\n",
       "    <tr>\n",
       "      <th>5287832</th>\n",
       "      <td>1.0</td>\n",
       "      <td>True</td>\n",
       "      <td>1.0</td>\n",
       "    </tr>\n",
       "    <tr>\n",
       "      <th>2577377</th>\n",
       "      <td>1.0</td>\n",
       "      <td>True</td>\n",
       "      <td>1.0</td>\n",
       "    </tr>\n",
       "    <tr>\n",
       "      <th>2494406</th>\n",
       "      <td>1.0</td>\n",
       "      <td>True</td>\n",
       "      <td>1.0</td>\n",
       "    </tr>\n",
       "    <tr>\n",
       "      <th>2837</th>\n",
       "      <td>NaN</td>\n",
       "      <td>True</td>\n",
       "      <td>0.0</td>\n",
       "    </tr>\n",
       "    <tr>\n",
       "      <th>461623</th>\n",
       "      <td>1.0</td>\n",
       "      <td>True</td>\n",
       "      <td>1.0</td>\n",
       "    </tr>\n",
       "    <tr>\n",
       "      <th>2446129</th>\n",
       "      <td>NaN</td>\n",
       "      <td>True</td>\n",
       "      <td>0.0</td>\n",
       "    </tr>\n",
       "  </tbody>\n",
       "</table>\n",
       "</div>"
      ],
      "text/plain": [
       "         type  amount_anomaly_orig  FluxDest\n",
       "2871783   1.0                 True       1.0\n",
       "3768825   NaN                False       0.0\n",
       "5423275   1.0                 True       1.0\n",
       "6228699   NaN                 True       0.0\n",
       "5287832   1.0                 True       1.0\n",
       "2577377   1.0                 True       1.0\n",
       "2494406   1.0                 True       1.0\n",
       "2837      NaN                 True       0.0\n",
       "461623    1.0                 True       1.0\n",
       "2446129   NaN                 True       0.0"
      ]
     },
     "execution_count": 35,
     "metadata": {},
     "output_type": "execute_result"
    }
   ],
   "source": [
    "disc_data.sample(10)"
   ]
  },
  {
   "cell_type": "markdown",
   "metadata": {
    "heading_collapsed": true,
    "hidden": true
   },
   "source": [
    "## rescale variables"
   ]
  },
  {
   "cell_type": "code",
   "execution_count": 36,
   "metadata": {
    "ExecuteTime": {
     "end_time": "2020-11-08T13:59:09.701361Z",
     "start_time": "2020-11-08T13:59:09.535197Z"
    },
    "hidden": true
   },
   "outputs": [],
   "source": [
    "cont_data_r=cont_data/20 #rescale continuous variables"
   ]
  },
  {
   "cell_type": "code",
   "execution_count": 37,
   "metadata": {
    "ExecuteTime": {
     "end_time": "2020-11-08T13:59:09.710367Z",
     "start_time": "2020-11-08T13:59:09.703362Z"
    },
    "hidden": true,
    "scrolled": true
   },
   "outputs": [
    {
     "data": {
      "text/plain": [
       "type                   float64\n",
       "amount_anomaly_orig       bool\n",
       "FluxDest               float64\n",
       "dtype: object"
      ]
     },
     "execution_count": 37,
     "metadata": {},
     "output_type": "execute_result"
    }
   ],
   "source": [
    "disc_data.dtypes"
   ]
  },
  {
   "cell_type": "code",
   "execution_count": 38,
   "metadata": {
    "ExecuteTime": {
     "end_time": "2020-11-08T13:59:09.769498Z",
     "start_time": "2020-11-08T13:59:09.712366Z"
    },
    "hidden": true
   },
   "outputs": [],
   "source": [
    "disc_data[['amount_anomaly_orig']]=disc_data[['amount_anomaly_orig']].astype(int)"
   ]
  },
  {
   "cell_type": "code",
   "execution_count": 39,
   "metadata": {
    "ExecuteTime": {
     "end_time": "2020-11-08T13:59:09.908632Z",
     "start_time": "2020-11-08T13:59:09.770501Z"
    },
    "hidden": true
   },
   "outputs": [
    {
     "data": {
      "text/plain": [
       "type                   1.0\n",
       "amount_anomaly_orig    1.0\n",
       "FluxDest               1.0\n",
       "dtype: float64"
      ]
     },
     "execution_count": 39,
     "metadata": {},
     "output_type": "execute_result"
    }
   ],
   "source": [
    "disc_data.max()"
   ]
  },
  {
   "cell_type": "code",
   "execution_count": 40,
   "metadata": {
    "ExecuteTime": {
     "end_time": "2020-11-08T13:59:09.990711Z",
     "start_time": "2020-11-08T13:59:09.909634Z"
    },
    "hidden": true
   },
   "outputs": [],
   "source": [
    "# #rescale discrete variables\n",
    "# disc_data_r=disc_data.copy()\n",
    "disc_data[['FluxDest']]/=2\n",
    "# disc_data_r[['num_of_transactions_dest']]/=15"
   ]
  },
  {
   "cell_type": "code",
   "execution_count": 41,
   "metadata": {
    "ExecuteTime": {
     "end_time": "2020-11-08T13:59:10.231945Z",
     "start_time": "2020-11-08T13:59:09.991712Z"
    },
    "hidden": true,
    "scrolled": false
   },
   "outputs": [
    {
     "data": {
      "text/plain": [
       "type                   1.0\n",
       "amount_anomaly_orig    1.0\n",
       "FluxDest               1.0\n",
       "dtype: float64"
      ]
     },
     "execution_count": 41,
     "metadata": {},
     "output_type": "execute_result"
    }
   ],
   "source": [
    "(disc_data.max() - disc_data.min())"
   ]
  },
  {
   "cell_type": "markdown",
   "metadata": {
    "heading_collapsed": true
   },
   "source": [
    "# FEATURE SELECTION\n",
    "\n",
    "**Boruta columns selected without undersampling:**  ['amount', 'oldbalanceOrg', 'newbalanceOrig', 'oldbalanceDest', 'newbalanceDest', 'disc_orig_amount', 'disc_dest_amount', 'type', 'amount_anomaly_orig', 'FluxDest']\n",
    "\n",
    "**Boruta columns selected with undersampling:**  ['amount', 'oldbalanceOrg', 'newbalanceOrig', 'disc_orig_amount', 'disc_dest_amount']"
   ]
  },
  {
   "cell_type": "markdown",
   "metadata": {},
   "source": [
    "# MACHINE LEARNING MODEL SELECTION\n",
    "\n",
    "**model selected**: Random forest without balancing"
   ]
  },
  {
   "cell_type": "markdown",
   "metadata": {},
   "source": [
    "# HYPERPARAMETER FINE TUNING\n",
    "\n",
    "Best parameters for random forest: {'n_estimators': 100, 'min_samples_split': 2, 'max_features': 'auto', 'max_depth': 10} "
   ]
  },
  {
   "cell_type": "markdown",
   "metadata": {
    "heading_collapsed": true
   },
   "source": [
    "# TRAINING FINAL MODEL"
   ]
  },
  {
   "cell_type": "code",
   "execution_count": 42,
   "metadata": {
    "ExecuteTime": {
     "end_time": "2020-11-08T13:59:10.481184Z",
     "start_time": "2020-11-08T13:59:10.233947Z"
    },
    "hidden": true
   },
   "outputs": [],
   "source": [
    "df6=pd.concat([cont_data_r,disc_data,df5['isFraud']],axis=1)"
   ]
  },
  {
   "cell_type": "code",
   "execution_count": 44,
   "metadata": {
    "ExecuteTime": {
     "end_time": "2020-11-08T14:02:39.120748Z",
     "start_time": "2020-11-08T14:01:07.920728Z"
    },
    "hidden": true
   },
   "outputs": [],
   "source": [
    "df6.to_csv('data_MLready.csv', index = False)"
   ]
  },
  {
   "cell_type": "code",
   "execution_count": 56,
   "metadata": {
    "ExecuteTime": {
     "end_time": "2020-11-08T14:12:53.149455Z",
     "start_time": "2020-11-08T14:12:52.871558Z"
    },
    "hidden": true
   },
   "outputs": [],
   "source": [
    "x=df6.drop(['isFraud'],axis=1)\n",
    "y=df6['isFraud']"
   ]
  },
  {
   "cell_type": "code",
   "execution_count": 186,
   "metadata": {
    "ExecuteTime": {
     "end_time": "2020-11-08T16:47:44.638906Z",
     "start_time": "2020-11-08T16:47:42.437134Z"
    },
    "hidden": true
   },
   "outputs": [],
   "source": [
    "xtrain, xtest, ytrain, ytest=ms.train_test_split(x,y,test_size=0.20,random_state=SEED)"
   ]
  },
  {
   "cell_type": "code",
   "execution_count": 58,
   "metadata": {
    "ExecuteTime": {
     "end_time": "2020-11-08T14:13:00.515001Z",
     "start_time": "2020-11-08T14:12:59.392923Z"
    },
    "hidden": true
   },
   "outputs": [],
   "source": [
    "#drop na lines before training\n",
    "aux=pd.concat([xtrain,ytrain],axis=1)\n",
    "aux=aux.dropna(axis=0)\n",
    "xtrain=aux.drop(['isFraud'],axis=1)\n",
    "ytrain=aux['isFraud']"
   ]
  },
  {
   "cell_type": "code",
   "execution_count": 61,
   "metadata": {
    "ExecuteTime": {
     "end_time": "2020-11-08T14:15:05.166605Z",
     "start_time": "2020-11-08T14:13:37.424437Z"
    },
    "hidden": true
   },
   "outputs": [
    {
     "data": {
      "text/plain": [
       "RandomForestClassifier(max_depth=10, n_jobs=-1, random_state=42)"
      ]
     },
     "execution_count": 61,
     "metadata": {},
     "output_type": "execute_result"
    }
   ],
   "source": [
    "rfc = RandomForestClassifier(n_estimators=100, min_samples_split=2,\\\n",
    "                             max_features='auto', max_depth=10, random_state=SEED, n_jobs=-1)\n",
    "rfc.fit(xtrain,ytrain)"
   ]
  },
  {
   "cell_type": "code",
   "execution_count": 62,
   "metadata": {
    "ExecuteTime": {
     "end_time": "2020-11-08T15:05:34.113254Z",
     "start_time": "2020-11-08T15:05:34.101243Z"
    },
    "hidden": true
   },
   "outputs": [],
   "source": [
    "# Save Trained Model\n",
    "pickle.dump( rfc, open( 'randomforest_finalmodel.pkl', 'wb') )"
   ]
  },
  {
   "cell_type": "markdown",
   "metadata": {
    "heading_collapsed": true,
    "hidden": true
   },
   "source": [
    "## Model true accuracy"
   ]
  },
  {
   "cell_type": "code",
   "execution_count": 187,
   "metadata": {
    "ExecuteTime": {
     "end_time": "2020-11-08T16:47:54.679553Z",
     "start_time": "2020-11-08T16:47:54.292176Z"
    },
    "hidden": true
   },
   "outputs": [],
   "source": [
    "aux=pd.concat([xtest,ytest],axis=1)\n",
    "aux=aux.dropna(axis=0)\n",
    "xtest_alt=aux.drop(['isFraud'],axis=1)\n",
    "ytest_alt=aux['isFraud']"
   ]
  },
  {
   "cell_type": "code",
   "execution_count": 188,
   "metadata": {
    "ExecuteTime": {
     "end_time": "2020-11-08T16:48:15.847061Z",
     "start_time": "2020-11-08T16:48:14.644690Z"
    },
    "hidden": true
   },
   "outputs": [],
   "source": [
    "predictions=rfc.predict(xtest_alt)"
   ]
  },
  {
   "cell_type": "code",
   "execution_count": 189,
   "metadata": {
    "ExecuteTime": {
     "end_time": "2020-11-08T16:48:17.537829Z",
     "start_time": "2020-11-08T16:48:16.492146Z"
    },
    "hidden": true
   },
   "outputs": [],
   "source": [
    "rf_result_tuned = ml_error( 'Random Forest tuned', ytest_alt, predictions )"
   ]
  },
  {
   "cell_type": "code",
   "execution_count": 190,
   "metadata": {
    "ExecuteTime": {
     "end_time": "2020-11-08T16:48:18.301034Z",
     "start_time": "2020-11-08T16:48:18.293028Z"
    },
    "hidden": true
   },
   "outputs": [
    {
     "data": {
      "text/html": [
       "<div>\n",
       "<style scoped>\n",
       "    .dataframe tbody tr th:only-of-type {\n",
       "        vertical-align: middle;\n",
       "    }\n",
       "\n",
       "    .dataframe tbody tr th {\n",
       "        vertical-align: top;\n",
       "    }\n",
       "\n",
       "    .dataframe thead th {\n",
       "        text-align: right;\n",
       "    }\n",
       "</style>\n",
       "<table border=\"1\" class=\"dataframe\">\n",
       "  <thead>\n",
       "    <tr style=\"text-align: right;\">\n",
       "      <th></th>\n",
       "      <th>Model Name</th>\n",
       "      <th>Accuracy</th>\n",
       "      <th>Balanced accuracy</th>\n",
       "      <th>F1 score</th>\n",
       "      <th>Kappa Metrics</th>\n",
       "    </tr>\n",
       "  </thead>\n",
       "  <tbody>\n",
       "    <tr>\n",
       "      <th>0</th>\n",
       "      <td>Random Forest tuned</td>\n",
       "      <td>0.999993</td>\n",
       "      <td>0.998765</td>\n",
       "      <td>0.998764</td>\n",
       "      <td>0.99876</td>\n",
       "    </tr>\n",
       "  </tbody>\n",
       "</table>\n",
       "</div>"
      ],
      "text/plain": [
       "            Model Name  Accuracy  Balanced accuracy  F1 score  Kappa Metrics\n",
       "0  Random Forest tuned  0.999993           0.998765  0.998764        0.99876"
      ]
     },
     "execution_count": 190,
     "metadata": {},
     "output_type": "execute_result"
    }
   ],
   "source": [
    "rf_result_tuned"
   ]
  },
  {
   "cell_type": "markdown",
   "metadata": {
    "heading_collapsed": true,
    "hidden": true
   },
   "source": [
    "## Model business accuracy\n",
    "\n",
    "**Final result**\n",
    "\n",
    "* Balanced Accuracy: 0.998765\n",
    "* F1Score: 0.998764\n",
    "* KappaScore: 0.998762"
   ]
  },
  {
   "cell_type": "markdown",
   "metadata": {
    "hidden": true
   },
   "source": [
    "To get final predictions for business model if type is not cash_out or transfer the prediction will be automatically not fraud (0), this is because we found out on EDA that other kinds of transfer types is never fraudulent."
   ]
  },
  {
   "cell_type": "code",
   "execution_count": 191,
   "metadata": {
    "ExecuteTime": {
     "end_time": "2020-11-08T16:48:34.335014Z",
     "start_time": "2020-11-08T16:48:32.812445Z"
    },
    "hidden": true
   },
   "outputs": [],
   "source": [
    "aux=pd.concat([xtest,ytest],axis=1)\n",
    "aux=aux.dropna(axis=0)\n",
    "xtest_aux=aux.drop(['isFraud'],axis=1)\n",
    "ytest_aux=aux['isFraud']\n",
    "predictions_cashout_transfer=rfc.predict(xtest_aux)"
   ]
  },
  {
   "cell_type": "code",
   "execution_count": 192,
   "metadata": {
    "ExecuteTime": {
     "end_time": "2020-11-08T16:48:52.091091Z",
     "start_time": "2020-11-08T16:48:52.085085Z"
    },
    "hidden": true
   },
   "outputs": [
    {
     "data": {
      "text/html": [
       "<div>\n",
       "<style scoped>\n",
       "    .dataframe tbody tr th:only-of-type {\n",
       "        vertical-align: middle;\n",
       "    }\n",
       "\n",
       "    .dataframe tbody tr th {\n",
       "        vertical-align: top;\n",
       "    }\n",
       "\n",
       "    .dataframe thead th {\n",
       "        text-align: right;\n",
       "    }\n",
       "</style>\n",
       "<table border=\"1\" class=\"dataframe\">\n",
       "  <thead>\n",
       "    <tr style=\"text-align: right;\">\n",
       "      <th></th>\n",
       "      <th>isFraud</th>\n",
       "    </tr>\n",
       "  </thead>\n",
       "  <tbody>\n",
       "    <tr>\n",
       "      <th>5899326</th>\n",
       "      <td>0</td>\n",
       "    </tr>\n",
       "    <tr>\n",
       "      <th>2331654</th>\n",
       "      <td>0</td>\n",
       "    </tr>\n",
       "    <tr>\n",
       "      <th>1414955</th>\n",
       "      <td>0</td>\n",
       "    </tr>\n",
       "    <tr>\n",
       "      <th>6133806</th>\n",
       "      <td>0</td>\n",
       "    </tr>\n",
       "    <tr>\n",
       "      <th>985736</th>\n",
       "      <td>0</td>\n",
       "    </tr>\n",
       "  </tbody>\n",
       "</table>\n",
       "</div>"
      ],
      "text/plain": [
       "         isFraud\n",
       "5899326        0\n",
       "2331654        0\n",
       "1414955        0\n",
       "6133806        0\n",
       "985736         0"
      ]
     },
     "execution_count": 192,
     "metadata": {},
     "output_type": "execute_result"
    }
   ],
   "source": [
    "# use model to predict fraud if type of transfer is either cash_out or transfer\n",
    "predictions_cashout_transfer=pd.DataFrame(predictions_cashout_transfer,index=ytest_aux.index, columns=['isFraud'])\n",
    "predictions_cashout_transfer.head(5)"
   ]
  },
  {
   "cell_type": "code",
   "execution_count": 193,
   "metadata": {
    "ExecuteTime": {
     "end_time": "2020-11-08T16:49:05.025570Z",
     "start_time": "2020-11-08T16:49:04.956503Z"
    },
    "hidden": true
   },
   "outputs": [
    {
     "data": {
      "text/html": [
       "<div>\n",
       "<style scoped>\n",
       "    .dataframe tbody tr th:only-of-type {\n",
       "        vertical-align: middle;\n",
       "    }\n",
       "\n",
       "    .dataframe tbody tr th {\n",
       "        vertical-align: top;\n",
       "    }\n",
       "\n",
       "    .dataframe thead th {\n",
       "        text-align: right;\n",
       "    }\n",
       "</style>\n",
       "<table border=\"1\" class=\"dataframe\">\n",
       "  <thead>\n",
       "    <tr style=\"text-align: right;\">\n",
       "      <th></th>\n",
       "      <th>isFraud</th>\n",
       "    </tr>\n",
       "  </thead>\n",
       "  <tbody>\n",
       "    <tr>\n",
       "      <th>3737323</th>\n",
       "      <td>0</td>\n",
       "    </tr>\n",
       "    <tr>\n",
       "      <th>264914</th>\n",
       "      <td>0</td>\n",
       "    </tr>\n",
       "    <tr>\n",
       "      <th>85647</th>\n",
       "      <td>0</td>\n",
       "    </tr>\n",
       "    <tr>\n",
       "      <th>2544263</th>\n",
       "      <td>0</td>\n",
       "    </tr>\n",
       "    <tr>\n",
       "      <th>3494160</th>\n",
       "      <td>0</td>\n",
       "    </tr>\n",
       "  </tbody>\n",
       "</table>\n",
       "</div>"
      ],
      "text/plain": [
       "         isFraud\n",
       "3737323        0\n",
       "264914         0\n",
       "85647          0\n",
       "2544263        0\n",
       "3494160        0"
      ]
     },
     "execution_count": 193,
     "metadata": {},
     "output_type": "execute_result"
    }
   ],
   "source": [
    "# ignore model and predict not fraudulent if it is another kind of transfer type\n",
    "predictions_othertypes = pd.DataFrame(0, index=xtest[xtest['type'].isna()].index, columns=['isFraud'])\n",
    "predictions_othertypes.head(5)"
   ]
  },
  {
   "cell_type": "code",
   "execution_count": 194,
   "metadata": {
    "ExecuteTime": {
     "end_time": "2020-11-08T16:49:08.082885Z",
     "start_time": "2020-11-08T16:49:08.068871Z"
    },
    "hidden": true
   },
   "outputs": [],
   "source": [
    "predictions=pd.concat([predictions_cashout_transfer,predictions_othertypes],axis=0)"
   ]
  },
  {
   "cell_type": "code",
   "execution_count": 195,
   "metadata": {
    "ExecuteTime": {
     "end_time": "2020-11-08T16:49:13.908310Z",
     "start_time": "2020-11-08T16:49:13.660066Z"
    },
    "hidden": true
   },
   "outputs": [
    {
     "data": {
      "text/plain": [
       "0     0\n",
       "8     0\n",
       "11    0\n",
       "Name: isFraud, dtype: int64"
      ]
     },
     "execution_count": 195,
     "metadata": {},
     "output_type": "execute_result"
    }
   ],
   "source": [
    "predictions=predictions.iloc[:,0].sort_index()\n",
    "predictions.head(3)"
   ]
  },
  {
   "cell_type": "code",
   "execution_count": 196,
   "metadata": {
    "ExecuteTime": {
     "end_time": "2020-11-08T16:49:30.864140Z",
     "start_time": "2020-11-08T16:49:30.628909Z"
    },
    "hidden": true
   },
   "outputs": [
    {
     "data": {
      "text/plain": [
       "0     0\n",
       "8     0\n",
       "11    0\n",
       "Name: isFraud, dtype: int64"
      ]
     },
     "execution_count": 196,
     "metadata": {},
     "output_type": "execute_result"
    }
   ],
   "source": [
    "ytest_sorted=ytest.sort_index()\n",
    "ytest_sorted.head(3)"
   ]
  },
  {
   "cell_type": "code",
   "execution_count": 197,
   "metadata": {
    "ExecuteTime": {
     "end_time": "2020-11-08T16:49:45.235206Z",
     "start_time": "2020-11-08T16:49:42.461203Z"
    },
    "hidden": true
   },
   "outputs": [
    {
     "data": {
      "text/html": [
       "<div>\n",
       "<style scoped>\n",
       "    .dataframe tbody tr th:only-of-type {\n",
       "        vertical-align: middle;\n",
       "    }\n",
       "\n",
       "    .dataframe tbody tr th {\n",
       "        vertical-align: top;\n",
       "    }\n",
       "\n",
       "    .dataframe thead th {\n",
       "        text-align: right;\n",
       "    }\n",
       "</style>\n",
       "<table border=\"1\" class=\"dataframe\">\n",
       "  <thead>\n",
       "    <tr style=\"text-align: right;\">\n",
       "      <th></th>\n",
       "      <th>Model Name</th>\n",
       "      <th>Accuracy</th>\n",
       "      <th>Balanced accuracy</th>\n",
       "      <th>F1 score</th>\n",
       "      <th>Kappa Metrics</th>\n",
       "    </tr>\n",
       "  </thead>\n",
       "  <tbody>\n",
       "    <tr>\n",
       "      <th>0</th>\n",
       "      <td>Random Forest tuned + default prediction</td>\n",
       "      <td>0.999997</td>\n",
       "      <td>0.998765</td>\n",
       "      <td>0.998764</td>\n",
       "      <td>0.998762</td>\n",
       "    </tr>\n",
       "  </tbody>\n",
       "</table>\n",
       "</div>"
      ],
      "text/plain": [
       "                                 Model Name  Accuracy  Balanced accuracy  \\\n",
       "0  Random Forest tuned + default prediction  0.999997           0.998765   \n",
       "\n",
       "   F1 score  Kappa Metrics  \n",
       "0  0.998764       0.998762  "
      ]
     },
     "execution_count": 197,
     "metadata": {},
     "output_type": "execute_result"
    }
   ],
   "source": [
    "rf_result_tuned_business = ml_error( 'Random Forest tuned + default prediction', ytest_sorted, predictions )\n",
    "rf_result_tuned_business"
   ]
  },
  {
   "cell_type": "code",
   "execution_count": 200,
   "metadata": {
    "ExecuteTime": {
     "end_time": "2020-11-08T19:34:17.499706Z",
     "start_time": "2020-11-08T19:34:16.022182Z"
    },
    "hidden": true
   },
   "outputs": [
    {
     "data": {
      "text/plain": [
       "<AxesSubplot:title={'center':'Confusion Matrix'}, xlabel='Predicted label', ylabel='True label'>"
      ]
     },
     "execution_count": 200,
     "metadata": {},
     "output_type": "execute_result"
    },
    {
     "data": {
      "image/png": "[encoded data removed]",
      "text/plain": [
       "<Figure size 288x288 with 2 Axes>"
      ]
     },
     "metadata": {},
     "output_type": "display_data"
    }
   ],
   "source": [
    "# Confusion Matrix\n",
    "mt.plot_confusion_matrix( ytest_sorted, predictions, normalize=False, figsize=(4,4))"
   ]
  },
  {
   "cell_type": "markdown",
   "metadata": {
    "heading_collapsed": true
   },
   "source": [
    "# BUSINESS ANALYSIS\n",
    "\n",
    "**Analysis**:\n",
    "\n",
    "With client's total amount of transactions of \\\\$229,409,295,522.24, the company's total profit is $555,956,368.86.\n",
    "\n",
    "This means the fraud company's relative profit for each \\\\$100 of transaction from client is \\\\$0.24"
   ]
  },
  {
   "cell_type": "code",
   "execution_count": 298,
   "metadata": {
    "ExecuteTime": {
     "end_time": "2020-11-08T21:11:37.147170Z",
     "start_time": "2020-11-08T21:11:37.121144Z"
    },
    "hidden": true
   },
   "outputs": [
    {
     "data": {
      "text/html": [
       "<div>\n",
       "<style scoped>\n",
       "    .dataframe tbody tr th:only-of-type {\n",
       "        vertical-align: middle;\n",
       "    }\n",
       "\n",
       "    .dataframe tbody tr th {\n",
       "        vertical-align: top;\n",
       "    }\n",
       "\n",
       "    .dataframe thead th {\n",
       "        text-align: right;\n",
       "    }\n",
       "</style>\n",
       "<table border=\"1\" class=\"dataframe\">\n",
       "  <thead>\n",
       "    <tr style=\"text-align: right;\">\n",
       "      <th></th>\n",
       "      <th>true_value</th>\n",
       "      <th>predicted_value</th>\n",
       "    </tr>\n",
       "  </thead>\n",
       "  <tbody>\n",
       "    <tr>\n",
       "      <th>0</th>\n",
       "      <td>0</td>\n",
       "      <td>0</td>\n",
       "    </tr>\n",
       "    <tr>\n",
       "      <th>8</th>\n",
       "      <td>0</td>\n",
       "      <td>0</td>\n",
       "    </tr>\n",
       "    <tr>\n",
       "      <th>11</th>\n",
       "      <td>0</td>\n",
       "      <td>0</td>\n",
       "    </tr>\n",
       "  </tbody>\n",
       "</table>\n",
       "</div>"
      ],
      "text/plain": [
       "    true_value  predicted_value\n",
       "0            0                0\n",
       "8            0                0\n",
       "11           0                0"
      ]
     },
     "execution_count": 298,
     "metadata": {},
     "output_type": "execute_result"
    }
   ],
   "source": [
    "results_class=pd.concat([ytest_sorted,predictions],axis=1)\n",
    "results_class.columns = ['true_value', 'predicted_value']\n",
    "results_class.head(3)"
   ]
  },
  {
   "cell_type": "code",
   "execution_count": 299,
   "metadata": {
    "ExecuteTime": {
     "end_time": "2020-11-08T21:11:40.913155Z",
     "start_time": "2020-11-08T21:11:40.898141Z"
    },
    "hidden": true
   },
   "outputs": [],
   "source": [
    "#creating confusion matrix column\n",
    "results_class['ConfusionMatrix_state']=results_class.sum(axis=1)"
   ]
  },
  {
   "cell_type": "code",
   "execution_count": 300,
   "metadata": {
    "ExecuteTime": {
     "end_time": "2020-11-08T21:11:45.838190Z",
     "start_time": "2020-11-08T21:11:45.777129Z"
    },
    "hidden": true
   },
   "outputs": [],
   "source": [
    "# filling values for True negatives and true positives\n",
    "results_class['ConfusionMatrix_state']=results_class['ConfusionMatrix_state'].map({0:'TN',2:'TP'})"
   ]
  },
  {
   "cell_type": "code",
   "execution_count": 303,
   "metadata": {
    "ExecuteTime": {
     "end_time": "2020-11-08T21:12:28.718159Z",
     "start_time": "2020-11-08T21:12:28.706147Z"
    },
    "hidden": true
   },
   "outputs": [
    {
     "data": {
      "text/plain": [
       "Series([], Name: ConfusionMatrix_state, dtype: object)"
      ]
     },
     "execution_count": 303,
     "metadata": {},
     "output_type": "execute_result"
    }
   ],
   "source": [
    "results_class.loc[(results_class['true_value']==0) & (results_class['predicted_value']==1)]['ConfusionMatrix_state']"
   ]
  },
  {
   "cell_type": "code",
   "execution_count": 308,
   "metadata": {
    "ExecuteTime": {
     "end_time": "2020-11-08T21:14:16.276129Z",
     "start_time": "2020-11-08T21:14:16.242096Z"
    },
    "hidden": true
   },
   "outputs": [],
   "source": [
    "# filling values for False positives\n",
    "results_class.loc[(results_class['true_value']==0) & (results_class['predicted_value']==1),'ConfusionMatrix_state']='FP'"
   ]
  },
  {
   "cell_type": "code",
   "execution_count": 309,
   "metadata": {
    "ExecuteTime": {
     "end_time": "2020-11-08T21:14:16.803063Z",
     "start_time": "2020-11-08T21:14:16.769031Z"
    },
    "hidden": true
   },
   "outputs": [],
   "source": [
    "# filling values for False negatives\n",
    "results_class.loc[(results_class['true_value']==1) & (results_class['predicted_value']==0),'ConfusionMatrix_state']='FN'"
   ]
  },
  {
   "cell_type": "code",
   "execution_count": 315,
   "metadata": {
    "ExecuteTime": {
     "end_time": "2020-11-08T21:15:18.929459Z",
     "start_time": "2020-11-08T21:15:18.891423Z"
    },
    "hidden": true
   },
   "outputs": [],
   "source": [
    "# amount before transformation\n",
    "amount=df1['amount'].iloc[ytest_sorted.index]"
   ]
  },
  {
   "cell_type": "code",
   "execution_count": 316,
   "metadata": {
    "ExecuteTime": {
     "end_time": "2020-11-08T21:15:23.505119Z",
     "start_time": "2020-11-08T21:15:23.472090Z"
    },
    "hidden": true
   },
   "outputs": [],
   "source": [
    "results_class=pd.concat([results_class,amount],axis=1)"
   ]
  },
  {
   "cell_type": "code",
   "execution_count": 317,
   "metadata": {
    "ExecuteTime": {
     "end_time": "2020-11-08T21:15:25.335249Z",
     "start_time": "2020-11-08T21:15:25.257147Z"
    },
    "hidden": true
   },
   "outputs": [],
   "source": [
    "# Expansion Strategy in Brazil:\n",
    "# * The company receives 25% of each transaction value truly detected as fraud.\n",
    "# * The company gives back 5% of each transaction value detected as fraud, however the transaction is legitimate.\n",
    "# * The company gives back 100% of the value for the customer in each transaction detected as legitimate, however the transaction is actually a fraud.\n",
    "results_class['Pertange Gain']=results_class['ConfusionMatrix_state'].map({'TN':0,'FP':-0.05,'FN':-1,'TP':0.25})"
   ]
  },
  {
   "cell_type": "code",
   "execution_count": 318,
   "metadata": {
    "ExecuteTime": {
     "end_time": "2020-11-08T21:15:26.847181Z",
     "start_time": "2020-11-08T21:15:26.833169Z"
    },
    "hidden": true
   },
   "outputs": [],
   "source": [
    "results_class['Profit']=results_class['amount']*results_class['Pertange Gain']"
   ]
  },
  {
   "cell_type": "code",
   "execution_count": 319,
   "metadata": {
    "ExecuteTime": {
     "end_time": "2020-11-08T21:15:28.051480Z",
     "start_time": "2020-11-08T21:15:28.041470Z"
    },
    "hidden": true
   },
   "outputs": [
    {
     "data": {
      "text/html": [
       "<div>\n",
       "<style scoped>\n",
       "    .dataframe tbody tr th:only-of-type {\n",
       "        vertical-align: middle;\n",
       "    }\n",
       "\n",
       "    .dataframe tbody tr th {\n",
       "        vertical-align: top;\n",
       "    }\n",
       "\n",
       "    .dataframe thead th {\n",
       "        text-align: right;\n",
       "    }\n",
       "</style>\n",
       "<table border=\"1\" class=\"dataframe\">\n",
       "  <thead>\n",
       "    <tr style=\"text-align: right;\">\n",
       "      <th></th>\n",
       "      <th>true_value</th>\n",
       "      <th>predicted_value</th>\n",
       "      <th>ConfusionMatrix_state</th>\n",
       "      <th>amount</th>\n",
       "      <th>Pertange Gain</th>\n",
       "      <th>Profit</th>\n",
       "    </tr>\n",
       "  </thead>\n",
       "  <tbody>\n",
       "    <tr>\n",
       "      <th>0</th>\n",
       "      <td>0</td>\n",
       "      <td>0</td>\n",
       "      <td>TN</td>\n",
       "      <td>9839.64</td>\n",
       "      <td>0.0</td>\n",
       "      <td>0.0</td>\n",
       "    </tr>\n",
       "    <tr>\n",
       "      <th>8</th>\n",
       "      <td>0</td>\n",
       "      <td>0</td>\n",
       "      <td>TN</td>\n",
       "      <td>4024.36</td>\n",
       "      <td>0.0</td>\n",
       "      <td>0.0</td>\n",
       "    </tr>\n",
       "    <tr>\n",
       "      <th>11</th>\n",
       "      <td>0</td>\n",
       "      <td>0</td>\n",
       "      <td>TN</td>\n",
       "      <td>3099.97</td>\n",
       "      <td>0.0</td>\n",
       "      <td>0.0</td>\n",
       "    </tr>\n",
       "    <tr>\n",
       "      <th>13</th>\n",
       "      <td>0</td>\n",
       "      <td>0</td>\n",
       "      <td>TN</td>\n",
       "      <td>11633.76</td>\n",
       "      <td>0.0</td>\n",
       "      <td>0.0</td>\n",
       "    </tr>\n",
       "  </tbody>\n",
       "</table>\n",
       "</div>"
      ],
      "text/plain": [
       "    true_value  predicted_value ConfusionMatrix_state    amount  \\\n",
       "0            0                0                    TN   9839.64   \n",
       "8            0                0                    TN   4024.36   \n",
       "11           0                0                    TN   3099.97   \n",
       "13           0                0                    TN  11633.76   \n",
       "\n",
       "    Pertange Gain  Profit  \n",
       "0             0.0     0.0  \n",
       "8             0.0     0.0  \n",
       "11            0.0     0.0  \n",
       "13            0.0     0.0  "
      ]
     },
     "execution_count": 319,
     "metadata": {},
     "output_type": "execute_result"
    }
   ],
   "source": [
    "results_class.head(4)"
   ]
  },
  {
   "cell_type": "code",
   "execution_count": 325,
   "metadata": {
    "ExecuteTime": {
     "end_time": "2020-11-08T21:17:26.694161Z",
     "start_time": "2020-11-08T21:17:26.681147Z"
    },
    "hidden": true
   },
   "outputs": [
    {
     "name": "stdout",
     "output_type": "stream",
     "text": [
      "fraud company`s total profit is:  555956368.86\n"
     ]
    }
   ],
   "source": [
    "total_profit=results_class['Profit'].sum()\n",
    "print('fraud company`s total profit is: ',total_profit)"
   ]
  },
  {
   "cell_type": "code",
   "execution_count": 326,
   "metadata": {
    "ExecuteTime": {
     "end_time": "2020-11-08T21:17:27.957581Z",
     "start_time": "2020-11-08T21:17:27.944568Z"
    },
    "hidden": true,
    "scrolled": true
   },
   "outputs": [
    {
     "name": "stdout",
     "output_type": "stream",
     "text": [
      "Client`s total amount of transactions:  229409295522.24005\n"
     ]
    }
   ],
   "source": [
    "total_amount=results_class['amount'].sum()\n",
    "print('Client`s total amount of transactions: ',total_amount)"
   ]
  },
  {
   "cell_type": "code",
   "execution_count": 327,
   "metadata": {
    "ExecuteTime": {
     "end_time": "2020-11-08T21:17:30.188210Z",
     "start_time": "2020-11-08T21:17:30.184206Z"
    },
    "hidden": true
   },
   "outputs": [
    {
     "name": "stdout",
     "output_type": "stream",
     "text": [
      "fraud company`s relative profit for each 100$ of transaction from client: $ 0.24234256401615725\n"
     ]
    }
   ],
   "source": [
    "margin=total_profit/total_amount\n",
    "print('fraud company`s relative profit for each 100$ of transaction from client: $',margin*100)"
   ]
  },
  {
   "cell_type": "markdown",
   "metadata": {
    "heading_collapsed": true,
    "hidden": true
   },
   "source": [
    "## 100% accuracy model\n",
    "\n",
    "The difference between the random forest model and the model with 100% accuracy is insignificant"
   ]
  },
  {
   "cell_type": "code",
   "execution_count": 348,
   "metadata": {
    "ExecuteTime": {
     "end_time": "2020-11-08T21:25:26.621146Z",
     "start_time": "2020-11-08T21:25:26.593120Z"
    },
    "hidden": true
   },
   "outputs": [],
   "source": [
    "results_class_alt=results_class.copy()"
   ]
  },
  {
   "cell_type": "code",
   "execution_count": 349,
   "metadata": {
    "ExecuteTime": {
     "end_time": "2020-11-08T21:25:27.124220Z",
     "start_time": "2020-11-08T21:25:27.048146Z"
    },
    "hidden": true
   },
   "outputs": [],
   "source": [
    "# in this predicted value is equal to true value\n",
    "results_class_alt['predicted_value']=results_class_alt['true_value']\n",
    "#creating confusion matrix column\n",
    "results_class_alt['ConfusionMatrix_state']=results_class_alt['predicted_value']+results_class_alt['true_value']\n",
    "# filling values for True negatives and true positives\n",
    "results_class_alt['ConfusionMatrix_state']=results_class_alt['ConfusionMatrix_state'].map({0:'TN',2:'TP'})\n",
    "# # filling values for False positives\n",
    "# results_class_alt.loc[(results_class['true_value']==0) & (results_class['predicted_value']==1),'ConfusionMatrix_state']='FP'\n",
    "# # filling values for False negatives\n",
    "# results_class_alt.loc[(results_class['true_value']==1) & (results_class['predicted_value']==0),'ConfusionMatrix_state']='FN'"
   ]
  },
  {
   "cell_type": "code",
   "execution_count": 350,
   "metadata": {
    "ExecuteTime": {
     "end_time": "2020-11-08T21:25:33.100254Z",
     "start_time": "2020-11-08T21:25:33.016174Z"
    },
    "hidden": true
   },
   "outputs": [],
   "source": [
    "# Expansion Strategy in Brazil:\n",
    "# * The company receives 25% of each transaction value truly detected as fraud.\n",
    "# * The company gives back 5% of each transaction value detected as fraud, however the transaction is legitimate.\n",
    "# * The company gives back 100% of the value for the customer in each transaction detected as legitimate, however the transaction is actually a fraud.\n",
    "results_class_alt['Pertange Gain']=results_class_alt['ConfusionMatrix_state'].map({'TN':0,'FP':-0.05,'FN':-1,'TP':0.25})"
   ]
  },
  {
   "cell_type": "code",
   "execution_count": 351,
   "metadata": {
    "ExecuteTime": {
     "end_time": "2020-11-08T21:25:33.623191Z",
     "start_time": "2020-11-08T21:25:33.608178Z"
    },
    "hidden": true
   },
   "outputs": [],
   "source": [
    "results_class_alt['Profit']=results_class_alt['amount']*results_class_alt['Pertange Gain']"
   ]
  },
  {
   "cell_type": "code",
   "execution_count": 352,
   "metadata": {
    "ExecuteTime": {
     "end_time": "2020-11-08T21:25:34.091407Z",
     "start_time": "2020-11-08T21:25:34.080396Z"
    },
    "hidden": true
   },
   "outputs": [
    {
     "data": {
      "text/html": [
       "<div>\n",
       "<style scoped>\n",
       "    .dataframe tbody tr th:only-of-type {\n",
       "        vertical-align: middle;\n",
       "    }\n",
       "\n",
       "    .dataframe tbody tr th {\n",
       "        vertical-align: top;\n",
       "    }\n",
       "\n",
       "    .dataframe thead th {\n",
       "        text-align: right;\n",
       "    }\n",
       "</style>\n",
       "<table border=\"1\" class=\"dataframe\">\n",
       "  <thead>\n",
       "    <tr style=\"text-align: right;\">\n",
       "      <th></th>\n",
       "      <th>true_value</th>\n",
       "      <th>predicted_value</th>\n",
       "      <th>ConfusionMatrix_state</th>\n",
       "      <th>amount</th>\n",
       "      <th>Pertange Gain</th>\n",
       "      <th>Profit</th>\n",
       "    </tr>\n",
       "  </thead>\n",
       "  <tbody>\n",
       "    <tr>\n",
       "      <th>0</th>\n",
       "      <td>0</td>\n",
       "      <td>0</td>\n",
       "      <td>TN</td>\n",
       "      <td>9839.64</td>\n",
       "      <td>0.0</td>\n",
       "      <td>0.0</td>\n",
       "    </tr>\n",
       "    <tr>\n",
       "      <th>8</th>\n",
       "      <td>0</td>\n",
       "      <td>0</td>\n",
       "      <td>TN</td>\n",
       "      <td>4024.36</td>\n",
       "      <td>0.0</td>\n",
       "      <td>0.0</td>\n",
       "    </tr>\n",
       "    <tr>\n",
       "      <th>11</th>\n",
       "      <td>0</td>\n",
       "      <td>0</td>\n",
       "      <td>TN</td>\n",
       "      <td>3099.97</td>\n",
       "      <td>0.0</td>\n",
       "      <td>0.0</td>\n",
       "    </tr>\n",
       "    <tr>\n",
       "      <th>13</th>\n",
       "      <td>0</td>\n",
       "      <td>0</td>\n",
       "      <td>TN</td>\n",
       "      <td>11633.76</td>\n",
       "      <td>0.0</td>\n",
       "      <td>0.0</td>\n",
       "    </tr>\n",
       "  </tbody>\n",
       "</table>\n",
       "</div>"
      ],
      "text/plain": [
       "    true_value  predicted_value ConfusionMatrix_state    amount  \\\n",
       "0            0                0                    TN   9839.64   \n",
       "8            0                0                    TN   4024.36   \n",
       "11           0                0                    TN   3099.97   \n",
       "13           0                0                    TN  11633.76   \n",
       "\n",
       "    Pertange Gain  Profit  \n",
       "0             0.0     0.0  \n",
       "8             0.0     0.0  \n",
       "11            0.0     0.0  \n",
       "13            0.0     0.0  "
      ]
     },
     "execution_count": 352,
     "metadata": {},
     "output_type": "execute_result"
    }
   ],
   "source": [
    "results_class_alt.head(4)"
   ]
  },
  {
   "cell_type": "code",
   "execution_count": 353,
   "metadata": {
    "ExecuteTime": {
     "end_time": "2020-11-08T21:25:48.573167Z",
     "start_time": "2020-11-08T21:25:48.561158Z"
    },
    "hidden": true
   },
   "outputs": [
    {
     "name": "stdout",
     "output_type": "stream",
     "text": [
      "fraud company`s total profit is:  557051275.41\n"
     ]
    }
   ],
   "source": [
    "total_profit=results_class_alt['Profit'].sum()\n",
    "print('fraud company`s total profit is: ',total_profit)"
   ]
  },
  {
   "cell_type": "code",
   "execution_count": 354,
   "metadata": {
    "ExecuteTime": {
     "end_time": "2020-11-08T21:25:50.078295Z",
     "start_time": "2020-11-08T21:25:50.064282Z"
    },
    "hidden": true,
    "scrolled": true
   },
   "outputs": [
    {
     "name": "stdout",
     "output_type": "stream",
     "text": [
      "Client`s total amount of transactions:  229409295522.24005\n"
     ]
    }
   ],
   "source": [
    "total_amount=results_class_alt['amount'].sum()\n",
    "print('Client`s total amount of transactions: ',total_amount)"
   ]
  },
  {
   "cell_type": "code",
   "execution_count": 355,
   "metadata": {
    "ExecuteTime": {
     "end_time": "2020-11-08T21:25:51.851160Z",
     "start_time": "2020-11-08T21:25:51.848157Z"
    },
    "hidden": true
   },
   "outputs": [
    {
     "name": "stdout",
     "output_type": "stream",
     "text": [
      "fraud company`s relative profit for each 100$ of transaction from client: $ 0.24281983611078076\n"
     ]
    }
   ],
   "source": [
    "margin=total_profit/total_amount\n",
    "print('fraud company`s relative profit for each 100$ of transaction from client: $',margin*100)"
   ]
  }
 ],
 "metadata": {
  "kernelspec": {
   "display_name": "Python 3",
   "language": "python",
   "name": "python3"
  },
  "language_info": {
   "codemirror_mode": {
    "name": "ipython",
    "version": 3
   },
   "file_extension": ".py",
   "mimetype": "text/x-python",
   "name": "python",
   "nbconvert_exporter": "python",
   "pygments_lexer": "ipython3",
   "version": "3.7.6"
  },
  "toc": {
   "base_numbering": "0",
   "nav_menu": {},
   "number_sections": true,
   "sideBar": true,
   "skip_h1_title": false,
   "title_cell": "Table of Contents",
   "title_sidebar": "Contents",
   "toc_cell": false,
   "toc_position": {},
   "toc_section_display": true,
   "toc_window_display": false
  }
 },
 "nbformat": 4,
 "nbformat_minor": 4
}
